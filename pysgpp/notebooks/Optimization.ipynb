{
 "cells": [
  {
   "cell_type": "markdown",
   "metadata": {
    "slideshow": {
     "slide_type": "slide"
    }
   },
   "source": [
    "# Optimization\n",
    "This notebook demonstrates optimization with SG++.\n",
    "It shows:\n",
    "- how to create an objective function object\n",
    "- how to interpolate with B-splines by explicitly creating the SLE\n",
    "- how to calculate the optimum using gradient descent\n",
    "\n",
    "Note: If you want to run these introductory notebooks interactively in your browser, you can use Google Colab. See [the according Wiki page](https://github.com/SGpp/SGpp/wiki/Installing-pysgpp-on-colab) for more instructions."
   ]
  },
  {
   "cell_type": "markdown",
   "metadata": {
    "slideshow": {
     "slide_type": "fragment"
    }
   },
   "source": [
    "The example interpolates a bivariate test function like the `Interpolation.ipynb` notebook.\n",
    "However, it uses B-splines here instead to obtain a smoother interpolant.  \n",
    "The resulting sparse grid function is then minimized with the method of steepest descent.\n",
    "For comparison, the objective function is also minimized with Nelder-Mead's method."
   ]
  },
  {
   "cell_type": "markdown",
   "metadata": {
    "slideshow": {
     "slide_type": "slide"
    }
   },
   "source": [
    "Import the necessary modules. The python bindings for SG++ are called \"pysgpp\"."
   ]
  },
  {
   "cell_type": "code",
   "execution_count": 1,
   "metadata": {
    "slideshow": {
     "slide_type": "fragment"
    }
   },
   "outputs": [],
   "source": [
    "%matplotlib notebook\n",
    "from __future__ import print_function\n",
    "import pysgpp\n",
    "import matplotlib.pyplot as plt\n",
    "from mpl_toolkits.mplot3d import Axes3D\n",
    "import sys\n",
    "import numpy as np"
   ]
  },
  {
   "cell_type": "markdown",
   "metadata": {
    "slideshow": {
     "slide_type": "slide"
    }
   },
   "source": [
    "The objective function $f\\colon [0, 1]^D \\to \\mathbb{R}$ to be minimized\n",
    "has to derive from `ScalarFunction`.\n",
    "In the constructor, we give the dimensionality of the domain\n",
    "(in this case $d = 2$).\n",
    "The eval method evaluates the objective function and returns the function\n",
    "value $f(\\vec{x})$ for a given point $\\vec{x} \\in [0, 1]^D$."
   ]
  },
  {
   "cell_type": "code",
   "execution_count": 2,
   "metadata": {
    "slideshow": {
     "slide_type": "fragment"
    }
   },
   "outputs": [],
   "source": [
    "class ExampleFunction(pysgpp.ScalarFunction):\n",
    "    \"\"\"Example objective function.\"\"\"\n",
    "    def __init__(self):\n",
    "        dim = 2\n",
    "        super(ExampleFunction, self).__init__(dim)\n",
    "\n",
    "    def eval(self, x):\n",
    "        \"\"\"Evaluates the function.\"\"\"\n",
    "        return np.sin(8.0 * x[0]) + np.sin(7.0 * x[1])"
   ]
  },
  {
   "cell_type": "markdown",
   "metadata": {
    "slideshow": {
     "slide_type": "slide"
    }
   },
   "source": [
    "Plot the objective function."
   ]
  },
  {
   "cell_type": "code",
   "execution_count": 3,
   "metadata": {
    "slideshow": {
     "slide_type": "fragment"
    }
   },
   "outputs": [
    {
     "data": {
      "application/javascript": [
       "/* Put everything inside the global mpl namespace */\n",
       "window.mpl = {};\n",
       "\n",
       "\n",
       "mpl.get_websocket_type = function() {\n",
       "    if (typeof(WebSocket) !== 'undefined') {\n",
       "        return WebSocket;\n",
       "    } else if (typeof(MozWebSocket) !== 'undefined') {\n",
       "        return MozWebSocket;\n",
       "    } else {\n",
       "        alert('Your browser does not have WebSocket support. ' +\n",
       "              'Please try Chrome, Safari or Firefox ≥ 6. ' +\n",
       "              'Firefox 4 and 5 are also supported but you ' +\n",
       "              'have to enable WebSockets in about:config.');\n",
       "    };\n",
       "}\n",
       "\n",
       "mpl.figure = function(figure_id, websocket, ondownload, parent_element) {\n",
       "    this.id = figure_id;\n",
       "\n",
       "    this.ws = websocket;\n",
       "\n",
       "    this.supports_binary = (this.ws.binaryType != undefined);\n",
       "\n",
       "    if (!this.supports_binary) {\n",
       "        var warnings = document.getElementById(\"mpl-warnings\");\n",
       "        if (warnings) {\n",
       "            warnings.style.display = 'block';\n",
       "            warnings.textContent = (\n",
       "                \"This browser does not support binary websocket messages. \" +\n",
       "                    \"Performance may be slow.\");\n",
       "        }\n",
       "    }\n",
       "\n",
       "    this.imageObj = new Image();\n",
       "\n",
       "    this.context = undefined;\n",
       "    this.message = undefined;\n",
       "    this.canvas = undefined;\n",
       "    this.rubberband_canvas = undefined;\n",
       "    this.rubberband_context = undefined;\n",
       "    this.format_dropdown = undefined;\n",
       "\n",
       "    this.image_mode = 'full';\n",
       "\n",
       "    this.root = $('<div/>');\n",
       "    this._root_extra_style(this.root)\n",
       "    this.root.attr('style', 'display: inline-block');\n",
       "\n",
       "    $(parent_element).append(this.root);\n",
       "\n",
       "    this._init_header(this);\n",
       "    this._init_canvas(this);\n",
       "    this._init_toolbar(this);\n",
       "\n",
       "    var fig = this;\n",
       "\n",
       "    this.waiting = false;\n",
       "\n",
       "    this.ws.onopen =  function () {\n",
       "            fig.send_message(\"supports_binary\", {value: fig.supports_binary});\n",
       "            fig.send_message(\"send_image_mode\", {});\n",
       "            if (mpl.ratio != 1) {\n",
       "                fig.send_message(\"set_dpi_ratio\", {'dpi_ratio': mpl.ratio});\n",
       "            }\n",
       "            fig.send_message(\"refresh\", {});\n",
       "        }\n",
       "\n",
       "    this.imageObj.onload = function() {\n",
       "            if (fig.image_mode == 'full') {\n",
       "                // Full images could contain transparency (where diff images\n",
       "                // almost always do), so we need to clear the canvas so that\n",
       "                // there is no ghosting.\n",
       "                fig.context.clearRect(0, 0, fig.canvas.width, fig.canvas.height);\n",
       "            }\n",
       "            fig.context.drawImage(fig.imageObj, 0, 0);\n",
       "        };\n",
       "\n",
       "    this.imageObj.onunload = function() {\n",
       "        fig.ws.close();\n",
       "    }\n",
       "\n",
       "    this.ws.onmessage = this._make_on_message_function(this);\n",
       "\n",
       "    this.ondownload = ondownload;\n",
       "}\n",
       "\n",
       "mpl.figure.prototype._init_header = function() {\n",
       "    var titlebar = $(\n",
       "        '<div class=\"ui-dialog-titlebar ui-widget-header ui-corner-all ' +\n",
       "        'ui-helper-clearfix\"/>');\n",
       "    var titletext = $(\n",
       "        '<div class=\"ui-dialog-title\" style=\"width: 100%; ' +\n",
       "        'text-align: center; padding: 3px;\"/>');\n",
       "    titlebar.append(titletext)\n",
       "    this.root.append(titlebar);\n",
       "    this.header = titletext[0];\n",
       "}\n",
       "\n",
       "\n",
       "\n",
       "mpl.figure.prototype._canvas_extra_style = function(canvas_div) {\n",
       "\n",
       "}\n",
       "\n",
       "\n",
       "mpl.figure.prototype._root_extra_style = function(canvas_div) {\n",
       "\n",
       "}\n",
       "\n",
       "mpl.figure.prototype._init_canvas = function() {\n",
       "    var fig = this;\n",
       "\n",
       "    var canvas_div = $('<div/>');\n",
       "\n",
       "    canvas_div.attr('style', 'position: relative; clear: both; outline: 0');\n",
       "\n",
       "    function canvas_keyboard_event(event) {\n",
       "        return fig.key_event(event, event['data']);\n",
       "    }\n",
       "\n",
       "    canvas_div.keydown('key_press', canvas_keyboard_event);\n",
       "    canvas_div.keyup('key_release', canvas_keyboard_event);\n",
       "    this.canvas_div = canvas_div\n",
       "    this._canvas_extra_style(canvas_div)\n",
       "    this.root.append(canvas_div);\n",
       "\n",
       "    var canvas = $('<canvas/>');\n",
       "    canvas.addClass('mpl-canvas');\n",
       "    canvas.attr('style', \"left: 0; top: 0; z-index: 0; outline: 0\")\n",
       "\n",
       "    this.canvas = canvas[0];\n",
       "    this.context = canvas[0].getContext(\"2d\");\n",
       "\n",
       "    var backingStore = this.context.backingStorePixelRatio ||\n",
       "\tthis.context.webkitBackingStorePixelRatio ||\n",
       "\tthis.context.mozBackingStorePixelRatio ||\n",
       "\tthis.context.msBackingStorePixelRatio ||\n",
       "\tthis.context.oBackingStorePixelRatio ||\n",
       "\tthis.context.backingStorePixelRatio || 1;\n",
       "\n",
       "    mpl.ratio = (window.devicePixelRatio || 1) / backingStore;\n",
       "\n",
       "    var rubberband = $('<canvas/>');\n",
       "    rubberband.attr('style', \"position: absolute; left: 0; top: 0; z-index: 1;\")\n",
       "\n",
       "    var pass_mouse_events = true;\n",
       "\n",
       "    canvas_div.resizable({\n",
       "        start: function(event, ui) {\n",
       "            pass_mouse_events = false;\n",
       "        },\n",
       "        resize: function(event, ui) {\n",
       "            fig.request_resize(ui.size.width, ui.size.height);\n",
       "        },\n",
       "        stop: function(event, ui) {\n",
       "            pass_mouse_events = true;\n",
       "            fig.request_resize(ui.size.width, ui.size.height);\n",
       "        },\n",
       "    });\n",
       "\n",
       "    function mouse_event_fn(event) {\n",
       "        if (pass_mouse_events)\n",
       "            return fig.mouse_event(event, event['data']);\n",
       "    }\n",
       "\n",
       "    rubberband.mousedown('button_press', mouse_event_fn);\n",
       "    rubberband.mouseup('button_release', mouse_event_fn);\n",
       "    // Throttle sequential mouse events to 1 every 20ms.\n",
       "    rubberband.mousemove('motion_notify', mouse_event_fn);\n",
       "\n",
       "    rubberband.mouseenter('figure_enter', mouse_event_fn);\n",
       "    rubberband.mouseleave('figure_leave', mouse_event_fn);\n",
       "\n",
       "    canvas_div.on(\"wheel\", function (event) {\n",
       "        event = event.originalEvent;\n",
       "        event['data'] = 'scroll'\n",
       "        if (event.deltaY < 0) {\n",
       "            event.step = 1;\n",
       "        } else {\n",
       "            event.step = -1;\n",
       "        }\n",
       "        mouse_event_fn(event);\n",
       "    });\n",
       "\n",
       "    canvas_div.append(canvas);\n",
       "    canvas_div.append(rubberband);\n",
       "\n",
       "    this.rubberband = rubberband;\n",
       "    this.rubberband_canvas = rubberband[0];\n",
       "    this.rubberband_context = rubberband[0].getContext(\"2d\");\n",
       "    this.rubberband_context.strokeStyle = \"#000000\";\n",
       "\n",
       "    this._resize_canvas = function(width, height) {\n",
       "        // Keep the size of the canvas, canvas container, and rubber band\n",
       "        // canvas in synch.\n",
       "        canvas_div.css('width', width)\n",
       "        canvas_div.css('height', height)\n",
       "\n",
       "        canvas.attr('width', width * mpl.ratio);\n",
       "        canvas.attr('height', height * mpl.ratio);\n",
       "        canvas.attr('style', 'width: ' + width + 'px; height: ' + height + 'px;');\n",
       "\n",
       "        rubberband.attr('width', width);\n",
       "        rubberband.attr('height', height);\n",
       "    }\n",
       "\n",
       "    // Set the figure to an initial 600x600px, this will subsequently be updated\n",
       "    // upon first draw.\n",
       "    this._resize_canvas(600, 600);\n",
       "\n",
       "    // Disable right mouse context menu.\n",
       "    $(this.rubberband_canvas).bind(\"contextmenu\",function(e){\n",
       "        return false;\n",
       "    });\n",
       "\n",
       "    function set_focus () {\n",
       "        canvas.focus();\n",
       "        canvas_div.focus();\n",
       "    }\n",
       "\n",
       "    window.setTimeout(set_focus, 100);\n",
       "}\n",
       "\n",
       "mpl.figure.prototype._init_toolbar = function() {\n",
       "    var fig = this;\n",
       "\n",
       "    var nav_element = $('<div/>');\n",
       "    nav_element.attr('style', 'width: 100%');\n",
       "    this.root.append(nav_element);\n",
       "\n",
       "    // Define a callback function for later on.\n",
       "    function toolbar_event(event) {\n",
       "        return fig.toolbar_button_onclick(event['data']);\n",
       "    }\n",
       "    function toolbar_mouse_event(event) {\n",
       "        return fig.toolbar_button_onmouseover(event['data']);\n",
       "    }\n",
       "\n",
       "    for(var toolbar_ind in mpl.toolbar_items) {\n",
       "        var name = mpl.toolbar_items[toolbar_ind][0];\n",
       "        var tooltip = mpl.toolbar_items[toolbar_ind][1];\n",
       "        var image = mpl.toolbar_items[toolbar_ind][2];\n",
       "        var method_name = mpl.toolbar_items[toolbar_ind][3];\n",
       "\n",
       "        if (!name) {\n",
       "            // put a spacer in here.\n",
       "            continue;\n",
       "        }\n",
       "        var button = $('<button/>');\n",
       "        button.addClass('ui-button ui-widget ui-state-default ui-corner-all ' +\n",
       "                        'ui-button-icon-only');\n",
       "        button.attr('role', 'button');\n",
       "        button.attr('aria-disabled', 'false');\n",
       "        button.click(method_name, toolbar_event);\n",
       "        button.mouseover(tooltip, toolbar_mouse_event);\n",
       "\n",
       "        var icon_img = $('<span/>');\n",
       "        icon_img.addClass('ui-button-icon-primary ui-icon');\n",
       "        icon_img.addClass(image);\n",
       "        icon_img.addClass('ui-corner-all');\n",
       "\n",
       "        var tooltip_span = $('<span/>');\n",
       "        tooltip_span.addClass('ui-button-text');\n",
       "        tooltip_span.html(tooltip);\n",
       "\n",
       "        button.append(icon_img);\n",
       "        button.append(tooltip_span);\n",
       "\n",
       "        nav_element.append(button);\n",
       "    }\n",
       "\n",
       "    var fmt_picker_span = $('<span/>');\n",
       "\n",
       "    var fmt_picker = $('<select/>');\n",
       "    fmt_picker.addClass('mpl-toolbar-option ui-widget ui-widget-content');\n",
       "    fmt_picker_span.append(fmt_picker);\n",
       "    nav_element.append(fmt_picker_span);\n",
       "    this.format_dropdown = fmt_picker[0];\n",
       "\n",
       "    for (var ind in mpl.extensions) {\n",
       "        var fmt = mpl.extensions[ind];\n",
       "        var option = $(\n",
       "            '<option/>', {selected: fmt === mpl.default_extension}).html(fmt);\n",
       "        fmt_picker.append(option);\n",
       "    }\n",
       "\n",
       "    // Add hover states to the ui-buttons\n",
       "    $( \".ui-button\" ).hover(\n",
       "        function() { $(this).addClass(\"ui-state-hover\");},\n",
       "        function() { $(this).removeClass(\"ui-state-hover\");}\n",
       "    );\n",
       "\n",
       "    var status_bar = $('<span class=\"mpl-message\"/>');\n",
       "    nav_element.append(status_bar);\n",
       "    this.message = status_bar[0];\n",
       "}\n",
       "\n",
       "mpl.figure.prototype.request_resize = function(x_pixels, y_pixels) {\n",
       "    // Request matplotlib to resize the figure. Matplotlib will then trigger a resize in the client,\n",
       "    // which will in turn request a refresh of the image.\n",
       "    this.send_message('resize', {'width': x_pixels, 'height': y_pixels});\n",
       "}\n",
       "\n",
       "mpl.figure.prototype.send_message = function(type, properties) {\n",
       "    properties['type'] = type;\n",
       "    properties['figure_id'] = this.id;\n",
       "    this.ws.send(JSON.stringify(properties));\n",
       "}\n",
       "\n",
       "mpl.figure.prototype.send_draw_message = function() {\n",
       "    if (!this.waiting) {\n",
       "        this.waiting = true;\n",
       "        this.ws.send(JSON.stringify({type: \"draw\", figure_id: this.id}));\n",
       "    }\n",
       "}\n",
       "\n",
       "\n",
       "mpl.figure.prototype.handle_save = function(fig, msg) {\n",
       "    var format_dropdown = fig.format_dropdown;\n",
       "    var format = format_dropdown.options[format_dropdown.selectedIndex].value;\n",
       "    fig.ondownload(fig, format);\n",
       "}\n",
       "\n",
       "\n",
       "mpl.figure.prototype.handle_resize = function(fig, msg) {\n",
       "    var size = msg['size'];\n",
       "    if (size[0] != fig.canvas.width || size[1] != fig.canvas.height) {\n",
       "        fig._resize_canvas(size[0], size[1]);\n",
       "        fig.send_message(\"refresh\", {});\n",
       "    };\n",
       "}\n",
       "\n",
       "mpl.figure.prototype.handle_rubberband = function(fig, msg) {\n",
       "    var x0 = msg['x0'] / mpl.ratio;\n",
       "    var y0 = (fig.canvas.height - msg['y0']) / mpl.ratio;\n",
       "    var x1 = msg['x1'] / mpl.ratio;\n",
       "    var y1 = (fig.canvas.height - msg['y1']) / mpl.ratio;\n",
       "    x0 = Math.floor(x0) + 0.5;\n",
       "    y0 = Math.floor(y0) + 0.5;\n",
       "    x1 = Math.floor(x1) + 0.5;\n",
       "    y1 = Math.floor(y1) + 0.5;\n",
       "    var min_x = Math.min(x0, x1);\n",
       "    var min_y = Math.min(y0, y1);\n",
       "    var width = Math.abs(x1 - x0);\n",
       "    var height = Math.abs(y1 - y0);\n",
       "\n",
       "    fig.rubberband_context.clearRect(\n",
       "        0, 0, fig.canvas.width / mpl.ratio, fig.canvas.height / mpl.ratio);\n",
       "\n",
       "    fig.rubberband_context.strokeRect(min_x, min_y, width, height);\n",
       "}\n",
       "\n",
       "mpl.figure.prototype.handle_figure_label = function(fig, msg) {\n",
       "    // Updates the figure title.\n",
       "    fig.header.textContent = msg['label'];\n",
       "}\n",
       "\n",
       "mpl.figure.prototype.handle_cursor = function(fig, msg) {\n",
       "    var cursor = msg['cursor'];\n",
       "    switch(cursor)\n",
       "    {\n",
       "    case 0:\n",
       "        cursor = 'pointer';\n",
       "        break;\n",
       "    case 1:\n",
       "        cursor = 'default';\n",
       "        break;\n",
       "    case 2:\n",
       "        cursor = 'crosshair';\n",
       "        break;\n",
       "    case 3:\n",
       "        cursor = 'move';\n",
       "        break;\n",
       "    }\n",
       "    fig.rubberband_canvas.style.cursor = cursor;\n",
       "}\n",
       "\n",
       "mpl.figure.prototype.handle_message = function(fig, msg) {\n",
       "    fig.message.textContent = msg['message'];\n",
       "}\n",
       "\n",
       "mpl.figure.prototype.handle_draw = function(fig, msg) {\n",
       "    // Request the server to send over a new figure.\n",
       "    fig.send_draw_message();\n",
       "}\n",
       "\n",
       "mpl.figure.prototype.handle_image_mode = function(fig, msg) {\n",
       "    fig.image_mode = msg['mode'];\n",
       "}\n",
       "\n",
       "mpl.figure.prototype.updated_canvas_event = function() {\n",
       "    // Called whenever the canvas gets updated.\n",
       "    this.send_message(\"ack\", {});\n",
       "}\n",
       "\n",
       "// A function to construct a web socket function for onmessage handling.\n",
       "// Called in the figure constructor.\n",
       "mpl.figure.prototype._make_on_message_function = function(fig) {\n",
       "    return function socket_on_message(evt) {\n",
       "        if (evt.data instanceof Blob) {\n",
       "            /* FIXME: We get \"Resource interpreted as Image but\n",
       "             * transferred with MIME type text/plain:\" errors on\n",
       "             * Chrome.  But how to set the MIME type?  It doesn't seem\n",
       "             * to be part of the websocket stream */\n",
       "            evt.data.type = \"image/png\";\n",
       "\n",
       "            /* Free the memory for the previous frames */\n",
       "            if (fig.imageObj.src) {\n",
       "                (window.URL || window.webkitURL).revokeObjectURL(\n",
       "                    fig.imageObj.src);\n",
       "            }\n",
       "\n",
       "            fig.imageObj.src = (window.URL || window.webkitURL).createObjectURL(\n",
       "                evt.data);\n",
       "            fig.updated_canvas_event();\n",
       "            fig.waiting = false;\n",
       "            return;\n",
       "        }\n",
       "        else if (typeof evt.data === 'string' && evt.data.slice(0, 21) == \"data:image/png;base64\") {\n",
       "            fig.imageObj.src = evt.data;\n",
       "            fig.updated_canvas_event();\n",
       "            fig.waiting = false;\n",
       "            return;\n",
       "        }\n",
       "\n",
       "        var msg = JSON.parse(evt.data);\n",
       "        var msg_type = msg['type'];\n",
       "\n",
       "        // Call the  \"handle_{type}\" callback, which takes\n",
       "        // the figure and JSON message as its only arguments.\n",
       "        try {\n",
       "            var callback = fig[\"handle_\" + msg_type];\n",
       "        } catch (e) {\n",
       "            console.log(\"No handler for the '\" + msg_type + \"' message type: \", msg);\n",
       "            return;\n",
       "        }\n",
       "\n",
       "        if (callback) {\n",
       "            try {\n",
       "                // console.log(\"Handling '\" + msg_type + \"' message: \", msg);\n",
       "                callback(fig, msg);\n",
       "            } catch (e) {\n",
       "                console.log(\"Exception inside the 'handler_\" + msg_type + \"' callback:\", e, e.stack, msg);\n",
       "            }\n",
       "        }\n",
       "    };\n",
       "}\n",
       "\n",
       "// from http://stackoverflow.com/questions/1114465/getting-mouse-location-in-canvas\n",
       "mpl.findpos = function(e) {\n",
       "    //this section is from http://www.quirksmode.org/js/events_properties.html\n",
       "    var targ;\n",
       "    if (!e)\n",
       "        e = window.event;\n",
       "    if (e.target)\n",
       "        targ = e.target;\n",
       "    else if (e.srcElement)\n",
       "        targ = e.srcElement;\n",
       "    if (targ.nodeType == 3) // defeat Safari bug\n",
       "        targ = targ.parentNode;\n",
       "\n",
       "    // jQuery normalizes the pageX and pageY\n",
       "    // pageX,Y are the mouse positions relative to the document\n",
       "    // offset() returns the position of the element relative to the document\n",
       "    var x = e.pageX - $(targ).offset().left;\n",
       "    var y = e.pageY - $(targ).offset().top;\n",
       "\n",
       "    return {\"x\": x, \"y\": y};\n",
       "};\n",
       "\n",
       "/*\n",
       " * return a copy of an object with only non-object keys\n",
       " * we need this to avoid circular references\n",
       " * http://stackoverflow.com/a/24161582/3208463\n",
       " */\n",
       "function simpleKeys (original) {\n",
       "  return Object.keys(original).reduce(function (obj, key) {\n",
       "    if (typeof original[key] !== 'object')\n",
       "        obj[key] = original[key]\n",
       "    return obj;\n",
       "  }, {});\n",
       "}\n",
       "\n",
       "mpl.figure.prototype.mouse_event = function(event, name) {\n",
       "    var canvas_pos = mpl.findpos(event)\n",
       "\n",
       "    if (name === 'button_press')\n",
       "    {\n",
       "        this.canvas.focus();\n",
       "        this.canvas_div.focus();\n",
       "    }\n",
       "\n",
       "    var x = canvas_pos.x * mpl.ratio;\n",
       "    var y = canvas_pos.y * mpl.ratio;\n",
       "\n",
       "    this.send_message(name, {x: x, y: y, button: event.button,\n",
       "                             step: event.step,\n",
       "                             guiEvent: simpleKeys(event)});\n",
       "\n",
       "    /* This prevents the web browser from automatically changing to\n",
       "     * the text insertion cursor when the button is pressed.  We want\n",
       "     * to control all of the cursor setting manually through the\n",
       "     * 'cursor' event from matplotlib */\n",
       "    event.preventDefault();\n",
       "    return false;\n",
       "}\n",
       "\n",
       "mpl.figure.prototype._key_event_extra = function(event, name) {\n",
       "    // Handle any extra behaviour associated with a key event\n",
       "}\n",
       "\n",
       "mpl.figure.prototype.key_event = function(event, name) {\n",
       "\n",
       "    // Prevent repeat events\n",
       "    if (name == 'key_press')\n",
       "    {\n",
       "        if (event.which === this._key)\n",
       "            return;\n",
       "        else\n",
       "            this._key = event.which;\n",
       "    }\n",
       "    if (name == 'key_release')\n",
       "        this._key = null;\n",
       "\n",
       "    var value = '';\n",
       "    if (event.ctrlKey && event.which != 17)\n",
       "        value += \"ctrl+\";\n",
       "    if (event.altKey && event.which != 18)\n",
       "        value += \"alt+\";\n",
       "    if (event.shiftKey && event.which != 16)\n",
       "        value += \"shift+\";\n",
       "\n",
       "    value += 'k';\n",
       "    value += event.which.toString();\n",
       "\n",
       "    this._key_event_extra(event, name);\n",
       "\n",
       "    this.send_message(name, {key: value,\n",
       "                             guiEvent: simpleKeys(event)});\n",
       "    return false;\n",
       "}\n",
       "\n",
       "mpl.figure.prototype.toolbar_button_onclick = function(name) {\n",
       "    if (name == 'download') {\n",
       "        this.handle_save(this, null);\n",
       "    } else {\n",
       "        this.send_message(\"toolbar_button\", {name: name});\n",
       "    }\n",
       "};\n",
       "\n",
       "mpl.figure.prototype.toolbar_button_onmouseover = function(tooltip) {\n",
       "    this.message.textContent = tooltip;\n",
       "};\n",
       "mpl.toolbar_items = [[\"Home\", \"Reset original view\", \"fa fa-home icon-home\", \"home\"], [\"Back\", \"Back to previous view\", \"fa fa-arrow-left icon-arrow-left\", \"back\"], [\"Forward\", \"Forward to next view\", \"fa fa-arrow-right icon-arrow-right\", \"forward\"], [\"\", \"\", \"\", \"\"], [\"Pan\", \"Pan axes with left mouse, zoom with right\", \"fa fa-arrows icon-move\", \"pan\"], [\"Zoom\", \"Zoom to rectangle\", \"fa fa-square-o icon-check-empty\", \"zoom\"], [\"\", \"\", \"\", \"\"], [\"Download\", \"Download plot\", \"fa fa-floppy-o icon-save\", \"download\"]];\n",
       "\n",
       "mpl.extensions = [\"eps\", \"pdf\", \"png\", \"ps\", \"raw\", \"svg\"];\n",
       "\n",
       "mpl.default_extension = \"png\";var comm_websocket_adapter = function(comm) {\n",
       "    // Create a \"websocket\"-like object which calls the given IPython comm\n",
       "    // object with the appropriate methods. Currently this is a non binary\n",
       "    // socket, so there is still some room for performance tuning.\n",
       "    var ws = {};\n",
       "\n",
       "    ws.close = function() {\n",
       "        comm.close()\n",
       "    };\n",
       "    ws.send = function(m) {\n",
       "        //console.log('sending', m);\n",
       "        comm.send(m);\n",
       "    };\n",
       "    // Register the callback with on_msg.\n",
       "    comm.on_msg(function(msg) {\n",
       "        //console.log('receiving', msg['content']['data'], msg);\n",
       "        // Pass the mpl event to the overridden (by mpl) onmessage function.\n",
       "        ws.onmessage(msg['content']['data'])\n",
       "    });\n",
       "    return ws;\n",
       "}\n",
       "\n",
       "mpl.mpl_figure_comm = function(comm, msg) {\n",
       "    // This is the function which gets called when the mpl process\n",
       "    // starts-up an IPython Comm through the \"matplotlib\" channel.\n",
       "\n",
       "    var id = msg.content.data.id;\n",
       "    // Get hold of the div created by the display call when the Comm\n",
       "    // socket was opened in Python.\n",
       "    var element = $(\"#\" + id);\n",
       "    var ws_proxy = comm_websocket_adapter(comm)\n",
       "\n",
       "    function ondownload(figure, format) {\n",
       "        window.open(figure.imageObj.src);\n",
       "    }\n",
       "\n",
       "    var fig = new mpl.figure(id, ws_proxy,\n",
       "                           ondownload,\n",
       "                           element.get(0));\n",
       "\n",
       "    // Call onopen now - mpl needs it, as it is assuming we've passed it a real\n",
       "    // web socket which is closed, not our websocket->open comm proxy.\n",
       "    ws_proxy.onopen();\n",
       "\n",
       "    fig.parent_element = element.get(0);\n",
       "    fig.cell_info = mpl.find_output_cell(\"<div id='\" + id + \"'></div>\");\n",
       "    if (!fig.cell_info) {\n",
       "        console.error(\"Failed to find cell for figure\", id, fig);\n",
       "        return;\n",
       "    }\n",
       "\n",
       "    var output_index = fig.cell_info[2]\n",
       "    var cell = fig.cell_info[0];\n",
       "\n",
       "};\n",
       "\n",
       "mpl.figure.prototype.handle_close = function(fig, msg) {\n",
       "    var width = fig.canvas.width/mpl.ratio\n",
       "    fig.root.unbind('remove')\n",
       "\n",
       "    // Update the output cell to use the data from the current canvas.\n",
       "    fig.push_to_output();\n",
       "    var dataURL = fig.canvas.toDataURL();\n",
       "    // Re-enable the keyboard manager in IPython - without this line, in FF,\n",
       "    // the notebook keyboard shortcuts fail.\n",
       "    IPython.keyboard_manager.enable()\n",
       "    $(fig.parent_element).html('<img src=\"' + dataURL + '\" width=\"' + width + '\">');\n",
       "    fig.close_ws(fig, msg);\n",
       "}\n",
       "\n",
       "mpl.figure.prototype.close_ws = function(fig, msg){\n",
       "    fig.send_message('closing', msg);\n",
       "    // fig.ws.close()\n",
       "}\n",
       "\n",
       "mpl.figure.prototype.push_to_output = function(remove_interactive) {\n",
       "    // Turn the data on the canvas into data in the output cell.\n",
       "    var width = this.canvas.width/mpl.ratio\n",
       "    var dataURL = this.canvas.toDataURL();\n",
       "    this.cell_info[1]['text/html'] = '<img src=\"' + dataURL + '\" width=\"' + width + '\">';\n",
       "}\n",
       "\n",
       "mpl.figure.prototype.updated_canvas_event = function() {\n",
       "    // Tell IPython that the notebook contents must change.\n",
       "    IPython.notebook.set_dirty(true);\n",
       "    this.send_message(\"ack\", {});\n",
       "    var fig = this;\n",
       "    // Wait a second, then push the new image to the DOM so\n",
       "    // that it is saved nicely (might be nice to debounce this).\n",
       "    setTimeout(function () { fig.push_to_output() }, 1000);\n",
       "}\n",
       "\n",
       "mpl.figure.prototype._init_toolbar = function() {\n",
       "    var fig = this;\n",
       "\n",
       "    var nav_element = $('<div/>');\n",
       "    nav_element.attr('style', 'width: 100%');\n",
       "    this.root.append(nav_element);\n",
       "\n",
       "    // Define a callback function for later on.\n",
       "    function toolbar_event(event) {\n",
       "        return fig.toolbar_button_onclick(event['data']);\n",
       "    }\n",
       "    function toolbar_mouse_event(event) {\n",
       "        return fig.toolbar_button_onmouseover(event['data']);\n",
       "    }\n",
       "\n",
       "    for(var toolbar_ind in mpl.toolbar_items){\n",
       "        var name = mpl.toolbar_items[toolbar_ind][0];\n",
       "        var tooltip = mpl.toolbar_items[toolbar_ind][1];\n",
       "        var image = mpl.toolbar_items[toolbar_ind][2];\n",
       "        var method_name = mpl.toolbar_items[toolbar_ind][3];\n",
       "\n",
       "        if (!name) { continue; };\n",
       "\n",
       "        var button = $('<button class=\"btn btn-default\" href=\"#\" title=\"' + name + '\"><i class=\"fa ' + image + ' fa-lg\"></i></button>');\n",
       "        button.click(method_name, toolbar_event);\n",
       "        button.mouseover(tooltip, toolbar_mouse_event);\n",
       "        nav_element.append(button);\n",
       "    }\n",
       "\n",
       "    // Add the status bar.\n",
       "    var status_bar = $('<span class=\"mpl-message\" style=\"text-align:right; float: right;\"/>');\n",
       "    nav_element.append(status_bar);\n",
       "    this.message = status_bar[0];\n",
       "\n",
       "    // Add the close button to the window.\n",
       "    var buttongrp = $('<div class=\"btn-group inline pull-right\"></div>');\n",
       "    var button = $('<button class=\"btn btn-mini btn-primary\" href=\"#\" title=\"Stop Interaction\"><i class=\"fa fa-power-off icon-remove icon-large\"></i></button>');\n",
       "    button.click(function (evt) { fig.handle_close(fig, {}); } );\n",
       "    button.mouseover('Stop Interaction', toolbar_mouse_event);\n",
       "    buttongrp.append(button);\n",
       "    var titlebar = this.root.find($('.ui-dialog-titlebar'));\n",
       "    titlebar.prepend(buttongrp);\n",
       "}\n",
       "\n",
       "mpl.figure.prototype._root_extra_style = function(el){\n",
       "    var fig = this\n",
       "    el.on(\"remove\", function(){\n",
       "\tfig.close_ws(fig, {});\n",
       "    });\n",
       "}\n",
       "\n",
       "mpl.figure.prototype._canvas_extra_style = function(el){\n",
       "    // this is important to make the div 'focusable\n",
       "    el.attr('tabindex', 0)\n",
       "    // reach out to IPython and tell the keyboard manager to turn it's self\n",
       "    // off when our div gets focus\n",
       "\n",
       "    // location in version 3\n",
       "    if (IPython.notebook.keyboard_manager) {\n",
       "        IPython.notebook.keyboard_manager.register_events(el);\n",
       "    }\n",
       "    else {\n",
       "        // location in version 2\n",
       "        IPython.keyboard_manager.register_events(el);\n",
       "    }\n",
       "\n",
       "}\n",
       "\n",
       "mpl.figure.prototype._key_event_extra = function(event, name) {\n",
       "    var manager = IPython.notebook.keyboard_manager;\n",
       "    if (!manager)\n",
       "        manager = IPython.keyboard_manager;\n",
       "\n",
       "    // Check for shift+enter\n",
       "    if (event.shiftKey && event.which == 13) {\n",
       "        this.canvas_div.blur();\n",
       "        event.shiftKey = false;\n",
       "        // Send a \"J\" for go to next cell\n",
       "        event.which = 74;\n",
       "        event.keyCode = 74;\n",
       "        manager.command_mode();\n",
       "        manager.handle_keydown(event);\n",
       "    }\n",
       "}\n",
       "\n",
       "mpl.figure.prototype.handle_save = function(fig, msg) {\n",
       "    fig.ondownload(fig, null);\n",
       "}\n",
       "\n",
       "\n",
       "mpl.find_output_cell = function(html_output) {\n",
       "    // Return the cell and output element which can be found *uniquely* in the notebook.\n",
       "    // Note - this is a bit hacky, but it is done because the \"notebook_saving.Notebook\"\n",
       "    // IPython event is triggered only after the cells have been serialised, which for\n",
       "    // our purposes (turning an active figure into a static one), is too late.\n",
       "    var cells = IPython.notebook.get_cells();\n",
       "    var ncells = cells.length;\n",
       "    for (var i=0; i<ncells; i++) {\n",
       "        var cell = cells[i];\n",
       "        if (cell.cell_type === 'code'){\n",
       "            for (var j=0; j<cell.output_area.outputs.length; j++) {\n",
       "                var data = cell.output_area.outputs[j];\n",
       "                if (data.data) {\n",
       "                    // IPython >= 3 moved mimebundle to data attribute of output\n",
       "                    data = data.data;\n",
       "                }\n",
       "                if (data['text/html'] == html_output) {\n",
       "                    return [cell, data, j];\n",
       "                }\n",
       "            }\n",
       "        }\n",
       "    }\n",
       "}\n",
       "\n",
       "// Register the function which deals with the matplotlib target/channel.\n",
       "// The kernel may be null if the page has been refreshed.\n",
       "if (IPython.notebook.kernel != null) {\n",
       "    IPython.notebook.kernel.comm_manager.register_target('matplotlib', mpl.mpl_figure_comm);\n",
       "}\n"
      ],
      "text/plain": [
       "<IPython.core.display.Javascript object>"
      ]
     },
     "metadata": {},
     "output_type": "display_data"
    },
    {
     "data": {
      "text/html": [
       "<img src=\"data:image/png;base64,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\" width=\"640\">"
      ],
      "text/plain": [
       "<IPython.core.display.HTML object>"
      ]
     },
     "metadata": {},
     "output_type": "display_data"
    },
    {
     "data": {
      "text/plain": [
       "<mpl_toolkits.mplot3d.art3d.Poly3DCollection at 0x7f5cb16d7d60>"
      ]
     },
     "execution_count": 3,
     "metadata": {},
     "output_type": "execute_result"
    }
   ],
   "source": [
    "XX = np.linspace(0,1,17)\n",
    "(X, Y) = np.meshgrid(XX, XX)\n",
    "fig = plt.figure()\n",
    "ax = fig.add_subplot(111, projection='3d')\n",
    "def ff(x1, x2):\n",
    "    return np.sin(8.0*x1) + np.sin(7.0*x2)\n",
    "ax.plot_surface(X, Y, ff(X, Y), rstride=1, cstride=1, cmap='viridis')"
   ]
  },
  {
   "cell_type": "markdown",
   "metadata": {
    "slideshow": {
     "slide_type": "slide"
    }
   },
   "source": [
    "OpenMP within pysgpp must be disabled for objective functions defined in Python, since it interferes with SWIG's director feature.  \n",
    "Set the verbosity level to obtain more/less information on grid generation, SLE solving and optimization printed to the console.\n",
    "\n",
    "Note: If parallel execution is needed for performance, implement the objective function directly  in C++."
   ]
  },
  {
   "cell_type": "code",
   "execution_count": 4,
   "metadata": {
    "slideshow": {
     "slide_type": "fragment"
    }
   },
   "outputs": [],
   "source": [
    "pysgpp.omp_set_num_threads(1)\n",
    "\n",
    "# increase verbosity of the output\n",
    "pysgpp.Printer.getInstance().setVerbosity(2)"
   ]
  },
  {
   "cell_type": "markdown",
   "metadata": {
    "slideshow": {
     "slide_type": "slide"
    }
   },
   "source": [
    "Define parameters: objective function, dimensionality,\n",
    "B-spline degree, maximal number of grid points, and adaptivity."
   ]
  },
  {
   "cell_type": "code",
   "execution_count": 5,
   "metadata": {
    "slideshow": {
     "slide_type": "fragment"
    }
   },
   "outputs": [],
   "source": [
    "# objective function\n",
    "f = ExampleFunction()\n",
    "# dimension of domain\n",
    "d = f.getNumberOfParameters()\n",
    "# B-spline degree\n",
    "p = 3\n",
    "# maximal number of grid points\n",
    "N = 30\n",
    "# gamma determines the adaptivity of grid generation\n",
    "# compromise between exploration (gamma = 0) and exploitation (gamma = 1)\n",
    "gamma = 0.95"
   ]
  },
  {
   "cell_type": "markdown",
   "metadata": {
    "slideshow": {
     "slide_type": "slide"
    }
   },
   "source": [
    "Define a grid of dimension `d` with modified B-spline basis functions of degree `p`."
   ]
  },
  {
   "cell_type": "code",
   "execution_count": 6,
   "metadata": {
    "slideshow": {
     "slide_type": "fragment"
    }
   },
   "outputs": [],
   "source": [
    "grid = pysgpp.Grid.createModBsplineGrid(d, p)\n"
   ]
  },
  {
   "cell_type": "markdown",
   "metadata": {
    "slideshow": {
     "slide_type": "slide"
    }
   },
   "source": [
    "Define an iterative grid generator, which can generate the grid adaptively. Apply the grid generator with the previousy defined parameters."
   ]
  },
  {
   "cell_type": "code",
   "execution_count": 7,
   "metadata": {
    "slideshow": {
     "slide_type": "fragment"
    }
   },
   "outputs": [],
   "source": [
    "gridGen = pysgpp.OptIterativeGridGeneratorRitterNovak(f, grid, N, gamma)\n",
    "if not gridGen.generate():\n",
    "    print(\"Grid generation failed, exiting.\")\n",
    "    sys.exit(1)"
   ]
  },
  {
   "cell_type": "markdown",
   "metadata": {
    "slideshow": {
     "slide_type": "slide"
    }
   },
   "source": [
    "Hierarchize the objective function values to get hierarchical B-spline\n",
    "coefficients of the B-spline sparse grid interpolant\n",
    "$\\tilde{f}\\colon [0, 1]^d \\to \\mathbb{R}$.  \n",
    "The hierarchization requires the interpolation SLE `hierSLE` which is automatically created depending on the `grid`, and an `sleSolver` to solve this SLE. Here the `AutoSLESolver` is used, which automatically picks a suiting solver library among the available choices.\n",
    "\n",
    "Note: SG++ supports the libraries Eigen, Armadillo, UMFPACK and GMPP for SLE solving. Use the flags USE_EIGEN, USE_ARMADILLO, USE_UMFPACK, USE_GMMP to compile SG++ with the according library. If none of these libraries is found by SG++ a simple gaussian elimination is used."
   ]
  },
  {
   "cell_type": "code",
   "execution_count": 8,
   "metadata": {
    "slideshow": {
     "slide_type": "fragment"
    }
   },
   "outputs": [],
   "source": [
    "functionValues = gridGen.getFunctionValues()\n",
    "coeffs = pysgpp.DataVector(len(functionValues))\n",
    "hierSLE = pysgpp.HierarchisationSLE(grid)\n",
    "sleSolver = pysgpp.AutoSLESolver()\n",
    "\n",
    "# solve linear system\n",
    "if not sleSolver.solve(hierSLE, gridGen.getFunctionValues(), coeffs):\n",
    "    print(\"Solving failed, exiting.\")\n",
    "    sys.exit(1)"
   ]
  },
  {
   "cell_type": "markdown",
   "metadata": {
    "slideshow": {
     "slide_type": "slide"
    }
   },
   "source": [
    "Define the interpolant $\\tilde{f}$ and its gradient $\\nabla\\tilde{f}$ for use with the gradient method (steepest descent). The `InterpolantScalarFunction` and `InterpolantScalarFunctionGradient` provide handy wrappers for this.\n",
    "\n",
    "Note: Other optimization algorithms are available from `sgpp::optimization::optimizer`."
   ]
  },
  {
   "cell_type": "code",
   "execution_count": 9,
   "metadata": {
    "slideshow": {
     "slide_type": "fragment"
    }
   },
   "outputs": [],
   "source": [
    "ft = pysgpp.InterpolantScalarFunction(grid, coeffs)\n",
    "ftGradient = pysgpp.InterpolantScalarFunctionGradient(grid, coeffs)\n",
    "gradientDescent = pysgpp.OptGradientDescent(ft, ftGradient)"
   ]
  },
  {
   "cell_type": "markdown",
   "metadata": {
    "slideshow": {
     "slide_type": "slide"
    }
   },
   "source": [
    "The gradient method needs a starting point.\n",
    "Here, we use a point of our adaptively generated sparse grid as starting point.\n",
    "More specifically, we use the point with the smallest\n",
    "(most promising) function value and save it in x0.\n",
    "\n",
    "Note: MultiStart is available, to improve convergence of the optimization routines."
   ]
  },
  {
   "cell_type": "code",
   "execution_count": 10,
   "metadata": {
    "slideshow": {
     "slide_type": "fragment"
    }
   },
   "outputs": [
    {
     "name": "stdout",
     "output_type": "stream",
     "text": [
      "x0 = [6.25000000000000000000e-01, 7.50000000000000000000e-01]\n",
      "f(x0) = -1.81786, ft(x0) = -1.81786\n",
      "\n"
     ]
    }
   ],
   "source": [
    "gridStorage = gridGen.getGrid().getStorage()\n",
    "\n",
    "# index of grid point with minimal function value\n",
    "x0 = pysgpp.DataVector(d)\n",
    "x0Index = 0\n",
    "fX0 = functionValues[0]\n",
    "for i in range(1, len(functionValues)):\n",
    "    if functionValues[i] < fX0:\n",
    "        fX0 = functionValues[i]\n",
    "        x0Index = i\n",
    "\n",
    "x0 = gridStorage.getCoordinates(gridStorage.getPoint(x0Index));\n",
    "ftX0 = ft.eval(x0)\n",
    "\n",
    "print(\"x0 = {}\".format(x0))\n",
    "print(\"f(x0) = {:.6g}, ft(x0) = {:.6g}\\n\".format(fX0, ftX0))"
   ]
  },
  {
   "cell_type": "markdown",
   "metadata": {
    "slideshow": {
     "slide_type": "slide"
    }
   },
   "source": [
    "Set the starting point, apply the gradient method and print the results."
   ]
  },
  {
   "cell_type": "code",
   "execution_count": 13,
   "metadata": {
    "slideshow": {
     "slide_type": "fragment"
    }
   },
   "outputs": [
    {
     "name": "stdout",
     "output_type": "stream",
     "text": [
      "\n",
      "xOpt = [5.89526019987554272817e-01, 6.73267822377386027100e-01]\n",
      "f(xOpt) = -1.99999, ft(xOpt) = -2.00078\n",
      "\n"
     ]
    }
   ],
   "source": [
    "gradientDescent.setStartingPoint(x0)\n",
    "gradientDescent.optimize()\n",
    "xOpt = gradientDescent.getOptimalPoint()\n",
    "ftXOpt = gradientDescent.getOptimalValue()\n",
    "fXOpt = f.eval(xOpt)\n",
    "\n",
    "print(\"\\nxOpt = {}\".format(xOpt))\n",
    "print(\"f(xOpt) = {:.6g}, ft(xOpt) = {:.6g}\\n\".format(fXOpt, ftXOpt))"
   ]
  },
  {
   "cell_type": "markdown",
   "metadata": {
    "slideshow": {
     "slide_type": "slide"
    }
   },
   "source": [
    "For comparison, apply the classical gradient-free Nelder-Mead method\n",
    "directly to the objective function $f$."
   ]
  },
  {
   "cell_type": "code",
   "execution_count": 14,
   "metadata": {
    "slideshow": {
     "slide_type": "fragment"
    }
   },
   "outputs": [
    {
     "name": "stdout",
     "output_type": "stream",
     "text": [
      "\n",
      "xOptNM = [5.89048623597983933564e-01, 6.73198424791973115688e-01]\n",
      "f(xOptNM) = -2, ft(xOptNM) = -2.00077\n",
      "\n"
     ]
    }
   ],
   "source": [
    "nelderMead = pysgpp.OptNelderMead(f, 1000)\n",
    "nelderMead.optimize()\n",
    "xOptNM = nelderMead.getOptimalPoint()\n",
    "fXOptNM = nelderMead.getOptimalValue()\n",
    "ftXOptNM = ft.eval(xOptNM)\n",
    "\n",
    "print(\"\\nxOptNM = {}\".format(xOptNM))\n",
    "print(\"f(xOptNM) = {:.6g}, ft(xOptNM) = {:.6g}\\n\".format(fXOptNM, ftXOptNM))"
   ]
  },
  {
   "cell_type": "markdown",
   "metadata": {
    "slideshow": {
     "slide_type": "slide"
    }
   },
   "source": [
    "We see that both the gradient-based optimization of the smooth sparse grid\n",
    "interpolant and the gradient-free optimization of the objective function\n",
    "find reasonable approximations of the minimum, which lies at\n",
    "$(3\\pi/16, 3\\pi/14) \\approx (0.58904862, 0.67319843)$."
   ]
  }
 ],
 "metadata": {
  "celltoolbar": "Slideshow",
  "kernelspec": {
   "display_name": "Python 3",
   "language": "python",
   "name": "python3"
  },
  "language_info": {
   "codemirror_mode": {
    "name": "ipython",
    "version": 3
   },
   "file_extension": ".py",
   "mimetype": "text/x-python",
   "name": "python",
   "nbconvert_exporter": "python",
   "pygments_lexer": "ipython3",
   "version": "3.8.0"
  }
 },
 "nbformat": 4,
 "nbformat_minor": 2
}
